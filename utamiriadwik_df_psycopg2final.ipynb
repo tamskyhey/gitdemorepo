{
 "cells": [
  {
   "cell_type": "code",
   "execution_count": 67,
   "metadata": {},
   "outputs": [
    {
     "name": "stdout",
     "output_type": "stream",
     "text": [
      "Requirement already satisfied: psycopg2 in c:\\users\\lenovo\\anaconda3\\lib\\site-packages (2.8.4)\n"
     ]
    }
   ],
   "source": [
    "#1.install jika belum terpasang : psycopg2\n",
    "!pip install psycopg2"
   ]
  },
  {
   "cell_type": "code",
   "execution_count": 68,
   "metadata": {},
   "outputs": [],
   "source": [
    "#import keperluan\n",
    "import psycopg2\n",
    "import pandas as pd"
   ]
  },
  {
   "cell_type": "code",
   "execution_count": 44,
   "metadata": {},
   "outputs": [
    {
     "name": "stdout",
     "output_type": "stream",
     "text": [
      "Requirement already satisfied: psycopg2 in c:\\users\\lenovo\\anaconda3\\lib\\site-packages (2.8.4)\n"
     ]
    }
   ],
   "source": []
  },
  {
   "cell_type": "code",
   "execution_count": null,
   "metadata": {},
   "outputs": [],
   "source": [
    "#2.Load data dari local ke jupyter"
   ]
  },
  {
   "cell_type": "code",
   "execution_count": 69,
   "metadata": {},
   "outputs": [],
   "source": [
    "campaign = pd.read_excel('D:/@iykra.homecredit/Downloads/coba_campaign.xlsx')"
   ]
  },
  {
   "cell_type": "code",
   "execution_count": 70,
   "metadata": {},
   "outputs": [],
   "source": [
    "campaign_details = pd.read_excel('D:/@iykra.homecredit/Downloads/coba_campaign_details.xlsx')"
   ]
  },
  {
   "cell_type": "code",
   "execution_count": 71,
   "metadata": {},
   "outputs": [],
   "source": [
    "delivorder = pd.read_csv('D:/@iykra.homecredit/Downloads/coba_delivorder.csv')"
   ]
  },
  {
   "cell_type": "code",
   "execution_count": 72,
   "metadata": {},
   "outputs": [],
   "source": [
    "delivorder_item = pd.read_csv('D:/@iykra.homecredit/Downloads/coba_delivorder_item.csv')"
   ]
  },
  {
   "cell_type": "code",
   "execution_count": 73,
   "metadata": {},
   "outputs": [],
   "source": [
    "distance = pd.read_excel('D:/@iykra.homecredit/Downloads/coba_distance.xlsx')"
   ]
  },
  {
   "cell_type": "code",
   "execution_count": 74,
   "metadata": {},
   "outputs": [],
   "source": [
    "geographic = pd.read_excel('D:/@iykra.homecredit/Downloads/coba_geographic.xlsx')"
   ]
  },
  {
   "cell_type": "code",
   "execution_count": 75,
   "metadata": {},
   "outputs": [],
   "source": [
    "plants = pd.read_excel('D:/@iykra.homecredit/Downloads/coba_plants.xlsx')"
   ]
  },
  {
   "cell_type": "code",
   "execution_count": 76,
   "metadata": {},
   "outputs": [],
   "source": [
    "produk = pd.read_excel('D:/@iykra.homecredit/Downloads/coba_produk.xlsx')"
   ]
  },
  {
   "cell_type": "code",
   "execution_count": 77,
   "metadata": {},
   "outputs": [],
   "source": [
    "sales_order = pd.read_excel('D:/@iykra.homecredit/Downloads/coba_sales_order2.xlsx')"
   ]
  },
  {
   "cell_type": "code",
   "execution_count": 78,
   "metadata": {},
   "outputs": [],
   "source": [
    "search_keyword = pd.read_excel('D:/@iykra.homecredit/Downloads/coba_search_keyword.xlsx')"
   ]
  },
  {
   "cell_type": "code",
   "execution_count": 79,
   "metadata": {},
   "outputs": [],
   "source": [
    "user_location = pd.read_excel('D:/@iykra.homecredit/Downloads/coba_user_location.xlsx')"
   ]
  },
  {
   "cell_type": "code",
   "execution_count": null,
   "metadata": {},
   "outputs": [],
   "source": [
    "#3.cek table"
   ]
  },
  {
   "cell_type": "code",
   "execution_count": null,
   "metadata": {},
   "outputs": [],
   "source": [
    "## cek info variabel yang ada pada tiap table\n",
    "campaign.info()\n",
    "# campaign_details.info()\n",
    "# delivorder.info()\n",
    "# delivorder_item.info()\n",
    "# distance.info()\n",
    "# geographic.info()\n",
    "# plants.info()\n",
    "# produk.info()\n",
    "# sales_order.info()\n",
    "# search_keyword.info()\n",
    "#user_location.info()"
   ]
  },
  {
   "cell_type": "code",
   "execution_count": null,
   "metadata": {},
   "outputs": [],
   "source": [
    "## panggil fungsi unique() pada masing2 table\n",
    "unique(campaign)\n",
    "# unique(campaign_details)\n",
    "# unque(deliveorder)\n",
    "# unique(delivorder_item)\n",
    "# unique(distance)\n",
    "# unique(geographic)\n",
    "# unique(plants)\n",
    "# unique(produk)\n",
    "# unique(sales_order2)\n",
    "# unique(search_keyword)\n",
    "#unique(user_location)"
   ]
  },
  {
   "cell_type": "code",
   "execution_count": 80,
   "metadata": {},
   "outputs": [],
   "source": [
    "#4.connect to PostgreSQL\n",
    "host=\"127.0.0.1\"\n",
    "database=\"postgres\"\n",
    "user=\"postgres\"\n",
    "password =\"lopt123.QED\""
   ]
  },
  {
   "cell_type": "code",
   "execution_count": 81,
   "metadata": {
    "scrolled": true
   },
   "outputs": [],
   "source": [
    "#5.Aktifkan fungsi conn cur\n",
    "#conn.close()\n",
    "conn = psycopg2.connect(host=host,database=database, user=user, password=password)\n",
    "cur = conn.cursor()"
   ]
  },
  {
   "cell_type": "code",
   "execution_count": 82,
   "metadata": {},
   "outputs": [],
   "source": [
    "#6.Bikin table\n",
    "#fungsi create all table\n",
    "def create_tables(conn,cur):\n",
    "    \"\"\"create tables in the PostgreSQL database\"\"\"\n",
    "    commands = (\n",
    "        \"\"\"\n",
    "        CREATE TABLE public.campaign_tams (\n",
    "            campaign VARCHAR(255) PRIMARY KEY,\n",
    "            state VARCHAR(255),\n",
    "            type VARCHAR(255),\n",
    "            currency VARCHAR(255),\n",
    "            clicks INTEGER,\n",
    "            impressions INTEGER,\n",
    "            ctr INTEGER,\n",
    "            avg_cpc FLOAT,\n",
    "            cost FLOAT,\n",
    "            conversions FLOAT,\n",
    "            view_through_conv INTEGER,\n",
    "            cost_per_conv FLOAT,\n",
    "            conv_rate FLOAT\n",
    "            )\n",
    "        \"\"\",\n",
    "        \"\"\"\n",
    "        CREATE TABLE public.campaign_details_tams\n",
    "                (\n",
    "                campaign VARCHAR (255) PRIMARY KEY,\n",
    "                state VARCHAR (255),\n",
    "                type VARCHAR (255),\n",
    "                subtype VARCHAR (255),\n",
    "                labels VARCHAR (255),\n",
    "                bid_strategy VARCHAR (255),\n",
    "                bid_strategy_type VARCHAR (255),\n",
    "                sitelinks_active INTEGER,\n",
    "                sitelinks_disapproved INTEGER,\n",
    "                phone_active INTEGER,\n",
    "                phone_disapproved INTEGER,\n",
    "                apps_active INTEGER,\n",
    "                apps_disapproved INTEGER,\n",
    "                apps_level VARCHAR (255),\n",
    "                desktop_bid_adj VARCHAR (255),\n",
    "                mobile_bid_adj VARCHAR (255),\n",
    "                tablet_bid_adj VARCHAR (255),\n",
    "                currency VARCHAR (255),\n",
    "                clicks INTEGER,\n",
    "                impressions INTEGER,\n",
    "                ctr INTEGER,\n",
    "                avg_cpc FLOAT,\n",
    "                cost FLOAT,\n",
    "                impr_abs_top FLOAT,\n",
    "                impr_top FLOAT,\n",
    "                conversions FLOAT,\n",
    "                view_through_conv INTEGER,\n",
    "                cost_per_conv FLOAT,\n",
    "                conv_rate FLOAT\n",
    "                )\n",
    "        \"\"\",\n",
    "        \"\"\"\n",
    "        CREATE TABLE public.distances_tams\n",
    "                (\n",
    "                from_location VARCHAR(255) PRIMARY KEY, \n",
    "                currency VARCHAR(255),\n",
    "                clicks INTEGER,\n",
    "                impressions INTEGER,\n",
    "                ctr FLOAT,\n",
    "                avg_cpc FLOAT,\n",
    "                cost FLOAT,\n",
    "                conversions FLOAT,\n",
    "                view_through_conv INTEGER,\n",
    "                cost_per_conv FLOAT,\n",
    "                conv_rate INTEGER\n",
    "                )\n",
    "        \"\"\",\n",
    "        \n",
    "        \"\"\"\n",
    "        CREATE TABLE public.delivorder_tams\n",
    "                (\n",
    "                do_id INTEGER PRIMARY KEY,\n",
    "                do_tgl VARCHAR (255),\n",
    "                do_org_id INTEGER,\n",
    "                do_so_id INTEGER,\n",
    "                do_tm_id FLOAT,\n",
    "                do_nomor VARCHAR (255),\n",
    "                do_driver_id FLOAT,\n",
    "                do_status_verifikasi INTEGER,\n",
    "                do_is_invoice INTEGER,\n",
    "                do_is_tolak INTEGER,\n",
    "                do_tolak_ket FLOAT,\n",
    "                do_tgl_tolak FLOAT,\n",
    "                do_jam_berangkat VARCHAR (255),\n",
    "                do_ket FLOAT,\n",
    "                do_bag_pengiriman_id FLOAT,\n",
    "                do_createtime VARCHAR (255),\n",
    "                do_tgl_terima VARCHAR (255),\n",
    "                do_is_jurnal INTEGER,\n",
    "                do_jam_terima VARCHAR (255),\n",
    "                do_jam_datang_diproyek VARCHAR (255),\n",
    "                do_jam_bongkar VARCHAR (255),\n",
    "                do_tgl_datang_diproyek VARCHAR (255),\n",
    "                do_tgl_bongkar VARCHAR (255),\n",
    "                do_is_invoice_plant_utama INTEGER,\n",
    "                do_stat_id FLOAT,\n",
    "                do_tgl_pulang VARCHAR (255),\n",
    "                do_jam_pulang VARCHAR (255),\n",
    "                do_jarak_km FLOAT,\n",
    "                do_ba_penolakan VARCHAR (255),\n",
    "                do_pembuat_penolakan FLOAT,\n",
    "                do_penyebab_penolakan VARCHAR (255),\n",
    "                do_penyetuju_penolakan FLOAT,\n",
    "                do_tld_id FLOAT,\n",
    "                do_hari_ba_penolakan VARCHAR (255),\n",
    "                do_tgl_ba_penolakan VARCHAR (255),\n",
    "                do_barcode FLOAT,\n",
    "                do_alasan_berkas_belum_terima FLOAT,\n",
    "                do_is_berkas_diterima FLOAT,\n",
    "                do_tgl_berkas_diterima VARCHAR (255),\n",
    "                do_tempat_cor VARCHAR (255),\n",
    "                do_lokasi_terima FLOAT\n",
    "                )\n",
    "\n",
    "        \"\"\",\n",
    "        \"\"\"\n",
    "         CREATE TABLE public.delivorder_items_tams\n",
    "                (\n",
    "                id_delivorder SERIAL PRIMARY KEY,\n",
    "                doi_id INTEGER,\n",
    "                doi_do_id INTEGER,\n",
    "                doi_soi_id INTEGER,\n",
    "                doi_qty_kirim FLOAT,\n",
    "                doi_qty_terima FLOAT,\n",
    "                ket VARCHAR(255)\n",
    "                )\n",
    "\n",
    "        \"\"\",\n",
    "        \"\"\"\n",
    "        CREATE TABLE public.plant_tams\n",
    "                (\n",
    "                plant VARCHAR (255) PRIMARY KEY,\n",
    "                batching_tipe VARCHAR (255),\n",
    "                batching_jml INTEGER,\n",
    "                batching_kapasitas INTEGER,\n",
    "                status VARCHAR (255),\n",
    "                jml_truk FLOAT\n",
    "                )\n",
    "\n",
    "        \"\"\",\n",
    "        \"\"\"\n",
    "        CREATE TABLE public.geographic_tams\n",
    "                (\n",
    "                id_geo SERIAL PRIMARY KEY,\n",
    "                country_territory VARCHAR(255),\n",
    "                region VARCHAR(255),\n",
    "                metro_area VARCHAR(255),\n",
    "                city VARCHAR(255),\n",
    "                most_targeted_location VARCHAR(255),\n",
    "                location_type VARCHAR(255),\n",
    "                currency VARCHAR(255),\n",
    "                clicks INTEGER,\n",
    "                impressions INTEGER,\n",
    "                ctr FLOAT,\n",
    "                avg_cpc FLOAT,\n",
    "                cost FLOAT,\n",
    "                impr_abs_top FLOAT,\n",
    "                impr_top FLOAT,\n",
    "                conversions FLOAT,\n",
    "                view_through_conv INTEGER,\n",
    "                cost_per_conv FLOAT,\n",
    "                conv_rate FLOAT\n",
    "                )\n",
    "        \"\"\",\n",
    "        \"\"\"\n",
    "        CREATE TABLE public.produk_tams    \n",
    "                (\n",
    "                no INTEGER PRIMARY KEY,\n",
    "                mutu VARCHAR(255),\n",
    "                spesifikasi VARCHAR(255),\n",
    "                slump VARCHAR(255),\n",
    "                spek_tambahan VARCHAR(255)\n",
    "                )\n",
    "\n",
    "        \"\"\",\n",
    "        \"\"\"\n",
    "        CREATE TABLE public.sales_order_tams    \n",
    "                (\n",
    "                tanggal_pemesanan TIMESTAMP,\n",
    "                nomor_kontrak_retail VARCHAR(255) PRIMARY KEY,\n",
    "                pelanggan VARCHAR(255),\n",
    "                jenis VARCHAR(255),\n",
    "                nama_proyek VARCHAR(255),\n",
    "                product VARCHAR(255),\n",
    "                area VARCHAR(255),\n",
    "                nilai INTEGER,\n",
    "                status VARCHAR(255)\n",
    "                )\n",
    "\n",
    "        \"\"\",\n",
    "        \"\"\"\n",
    "        CREATE TABLE public.search_keyword_tams       \n",
    "                (\n",
    "                id_keyword SERIAL PRIMARY KEY,\n",
    "                keyword VARCHAR (255),\n",
    "                keyword_status VARCHAR (255),\n",
    "                keyword_match_type VARCHAR (255),\n",
    "                campaign VARCHAR (255),\n",
    "                ad_group VARCHAR (255),\n",
    "                keyword_max_cpc INTEGER,\n",
    "                currency VARCHAR (255),\n",
    "                clicks INTEGER,\n",
    "                impressions INTEGER,\n",
    "                ctr FLOAT,\n",
    "                avg_cpc FLOAT,\n",
    "                cost INTEGER,\n",
    "                impr_abs_top FLOAT,\n",
    "                impr_top FLOAT,\n",
    "                conversions FLOAT,\n",
    "                view_through_conv INTEGER,\n",
    "                cost_conv FLOAT,\n",
    "                conv_rate FLOAT,\n",
    "                avg_cpm FLOAT\n",
    "                )\n",
    "\n",
    "        \"\"\",\n",
    "        \"\"\"\n",
    "        CREATE TABLE public.user_location_tams      \n",
    "                (\n",
    "                id_location SERIAL PRIMARY KEY,\n",
    "                country VARCHAR (255),\n",
    "                region VARCHAR (255),\n",
    "                metro_area VARCHAR (255),\n",
    "                city VARCHAR (255),\n",
    "                most_targeted_location VARCHAR (255),\n",
    "                location_type VARCHAR (255),\n",
    "                currency VARCHAR (255),\n",
    "                clicks INTEGER,\n",
    "                impressions INTEGER,\n",
    "                ctr FLOAT,\n",
    "                avg_cpc FLOAT,\n",
    "                cost FLOAT,\n",
    "                impr_abs_top FLOAT,\n",
    "                impr_top FLOAT,\n",
    "                conversions FLOAT,\n",
    "                view_through_conv INTEGER,\n",
    "                cost_conv FLOAT,\n",
    "                conv_rate FLOAT\n",
    "                )\n",
    "        \"\"\"\n",
    "        ,)\n",
    "    for command in commands:\n",
    "        cur.execute(command)\n",
    "        conn.commit()"
   ]
  },
  {
   "cell_type": "code",
   "execution_count": 83,
   "metadata": {},
   "outputs": [],
   "source": [
    "create_tables(conn,cur)"
   ]
  },
  {
   "cell_type": "code",
   "execution_count": 84,
   "metadata": {},
   "outputs": [],
   "source": [
    "#7 fungsi insert values into tables in PostgreSQL\n",
    "def insert_into(python_table, sql_table, conn, cur):\n",
    "    # list COLUMNS\n",
    "    list_columns = list(python_table.columns)\n",
    "    \n",
    "    # VALUES to be inserted\n",
    "    value = []\n",
    "    table_as_str = python_table.astype(str)\n",
    "    for i in range(len(table_as_str)):\n",
    "        value.append(str(tuple(table_as_str.iloc[i].to_list())))\n",
    "    value = \",\".join(value)\n",
    "    \n",
    "    sql = \"INSERT INTO %s(%s) VALUES %s\" % (sql_table, \", \".join(col for col in list_columns), value)\n",
    "    try:\n",
    "        # execute the INSERT statement\n",
    "        cur.execute(sql, (sql_table,))\n",
    "        # commit the changes to the database\n",
    "        conn.commit()\n",
    "        # close communication with the database\n",
    "    except (Exception, psycopg2.DatabaseError) as error:\n",
    "        print(error)"
   ]
  },
  {
   "cell_type": "code",
   "execution_count": 85,
   "metadata": {},
   "outputs": [],
   "source": [
    "# insert values into table campaign\n",
    "insert_into(campaign, 'public.campaign_tams', conn, cur)"
   ]
  },
  {
   "cell_type": "code",
   "execution_count": 92,
   "metadata": {},
   "outputs": [],
   "source": [
    "# insert values into table campaign_details\n",
    "insert_into(campaign_details, 'public.campaign_details_tams', conn, cur)"
   ]
  },
  {
   "cell_type": "code",
   "execution_count": 86,
   "metadata": {
    "scrolled": true
   },
   "outputs": [],
   "source": [
    "# insert values into table geographic\n",
    "insert_into(geographic, 'public.geographic_tams', conn, cur)"
   ]
  },
  {
   "cell_type": "code",
   "execution_count": 87,
   "metadata": {},
   "outputs": [],
   "source": [
    "# insert values into table plants\n",
    "insert_into(plants, 'public.plant_tams', conn, cur)"
   ]
  },
  {
   "cell_type": "code",
   "execution_count": 88,
   "metadata": {},
   "outputs": [],
   "source": [
    "# insert values into table produk\n",
    "insert_into(produk, 'public.produk_tams', conn, cur)"
   ]
  },
  {
   "cell_type": "code",
   "execution_count": 89,
   "metadata": {},
   "outputs": [],
   "source": [
    "# insert values into table sales_order\n",
    "insert_into(sales_order, 'public.sales_order_tams', conn, cur)"
   ]
  },
  {
   "cell_type": "code",
   "execution_count": 90,
   "metadata": {},
   "outputs": [],
   "source": [
    "# insert values into table search_keyword\n",
    "insert_into(search_keyword, 'public.search_keyword_tams', conn, cur)"
   ]
  },
  {
   "cell_type": "code",
   "execution_count": 91,
   "metadata": {},
   "outputs": [],
   "source": [
    "# insert values into table distances\n",
    "insert_into(distance, 'public.distances_tams', conn, cur)"
   ]
  },
  {
   "cell_type": "code",
   "execution_count": 93,
   "metadata": {},
   "outputs": [],
   "source": [
    "# insert values into table user_location\n",
    "insert_into(user_location, 'public.user_location_tams', conn, cur)"
   ]
  },
  {
   "cell_type": "code",
   "execution_count": null,
   "metadata": {},
   "outputs": [],
   "source": [
    "# insert values into table delivorder_tams\n",
    "insert_into(user_location, 'delivorder_tams', conn, cur)"
   ]
  },
  {
   "cell_type": "code",
   "execution_count": null,
   "metadata": {},
   "outputs": [],
   "source": [
    "# insert values into table delivorder_tams\n",
    "insert_into(user_location, 'delivorder_items_tams', conn, cur)"
   ]
  },
  {
   "cell_type": "code",
   "execution_count": null,
   "metadata": {},
   "outputs": [],
   "source": []
  },
  {
   "cell_type": "code",
   "execution_count": 95,
   "metadata": {},
   "outputs": [],
   "source": [
    "##8fungsi untuk cek value yg unik pada tiap table : primary key, foreign key\n",
    "#def unique(table) :\n",
    "    #return table.nunique() == len(table)"
   ]
  }
 ],
 "metadata": {
  "kernelspec": {
   "display_name": "Python 3",
   "language": "python",
   "name": "python3"
  },
  "language_info": {
   "codemirror_mode": {
    "name": "ipython",
    "version": 3
   },
   "file_extension": ".py",
   "mimetype": "text/x-python",
   "name": "python",
   "nbconvert_exporter": "python",
   "pygments_lexer": "ipython3",
   "version": "3.7.3"
  }
 },
 "nbformat": 4,
 "nbformat_minor": 2
}
